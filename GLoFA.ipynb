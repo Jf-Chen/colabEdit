{
  "nbformat": 4,
  "nbformat_minor": 0,
  "metadata": {
    "colab": {
      "name": "GLoFA.ipynb",
      "provenance": [],
      "collapsed_sections": [],
      "authorship_tag": "ABX9TyPKCP9b7qmib3eb75zkeUAA",
      "include_colab_link": true
    },
    "kernelspec": {
      "name": "python3",
      "display_name": "Python 3"
    },
    "language_info": {
      "name": "python"
    },
    "accelerator": "GPU"
  },
  "cells": [
    {
      "cell_type": "markdown",
      "metadata": {
        "id": "view-in-github",
        "colab_type": "text"
      },
      "source": [
        "<a href=\"https://colab.research.google.com/github/Jf-Chen/colabEdit/blob/main/GLoFA.ipynb\" target=\"_parent\"><img src=\"https://colab.research.google.com/assets/colab-badge.svg\" alt=\"Open In Colab\"/></a>"
      ]
    },
    {
      "cell_type": "code",
      "metadata": {
        "colab": {
          "base_uri": "https://localhost:8080/",
          "height": 35
        },
        "id": "rA2sJ0u9QCe5",
        "outputId": "f9daf591-b5e0-4a27-de4c-7e3ed2da3cfe"
      },
      "source": [
        "pwd"
      ],
      "execution_count": 1,
      "outputs": [
        {
          "output_type": "execute_result",
          "data": {
            "application/vnd.google.colaboratory.intrinsic+json": {
              "type": "string"
            },
            "text/plain": [
              "'/content'"
            ]
          },
          "metadata": {
            "tags": []
          },
          "execution_count": 1
        }
      ]
    },
    {
      "cell_type": "code",
      "metadata": {
        "id": "T9XZNm0QQQdb"
      },
      "source": [
        "!mkdir /content/run"
      ],
      "execution_count": 2,
      "outputs": []
    },
    {
      "cell_type": "code",
      "metadata": {
        "colab": {
          "base_uri": "https://localhost:8080/"
        },
        "id": "Td7pojaEQaEE",
        "outputId": "fa1fc546-b3db-4248-d420-5c10346c6649"
      },
      "source": [
        "cd /content/run"
      ],
      "execution_count": 3,
      "outputs": [
        {
          "output_type": "stream",
          "text": [
            "/content/run\n"
          ],
          "name": "stdout"
        }
      ]
    },
    {
      "cell_type": "code",
      "metadata": {
        "colab": {
          "base_uri": "https://localhost:8080/"
        },
        "id": "TtaXSgWgQc6Y",
        "outputId": "9d314efb-f4d4-4acb-b9bb-cce2cc396ce5"
      },
      "source": [
        "# 下载代码\n",
        "!git clone https://github.com/Jf-Chen/colabEdit.git"
      ],
      "execution_count": 4,
      "outputs": [
        {
          "output_type": "stream",
          "text": [
            "Cloning into 'colabEdit'...\n",
            "remote: Enumerating objects: 24, done.\u001b[K\n",
            "remote: Counting objects: 100% (24/24), done.\u001b[K\n",
            "remote: Compressing objects: 100% (19/19), done.\u001b[K\n",
            "remote: Total 24 (delta 0), reused 18 (delta 0), pack-reused 0\u001b[K\n",
            "Unpacking objects: 100% (24/24), done.\n"
          ],
          "name": "stdout"
        }
      ]
    },
    {
      "cell_type": "code",
      "metadata": {
        "colab": {
          "base_uri": "https://localhost:8080/"
        },
        "id": "-F4F3lUCQlrp",
        "outputId": "9b3f38b6-fdb9-4372-d171-ecc7b5235d65"
      },
      "source": [
        "# 下载数据集\n",
        "!gdown --id 1cy5mK_ALMgWBoTgHGpjrPFhetnZZGi46"
      ],
      "execution_count": 5,
      "outputs": [
        {
          "output_type": "stream",
          "text": [
            "Downloading...\n",
            "From: https://drive.google.com/uc?id=1cy5mK_ALMgWBoTgHGpjrPFhetnZZGi46\n",
            "To: /content/run/mini_imagenet.tar\n",
            "198MB [00:03, 51.0MB/s]\n"
          ],
          "name": "stdout"
        }
      ]
    },
    {
      "cell_type": "code",
      "metadata": {
        "id": "ZDIqkh-fQ0EX"
      },
      "source": [
        "# 解压\n",
        "!tar -xf mini_imagenet.tar"
      ],
      "execution_count": 6,
      "outputs": []
    },
    {
      "cell_type": "code",
      "metadata": {
        "colab": {
          "base_uri": "https://localhost:8080/"
        },
        "id": "S_yBCFqaQ6zB",
        "outputId": "5b338794-f3e6-416c-89d2-2e312aea70b7"
      },
      "source": [
        "cd /content/run/colabEdit/GLoFA"
      ],
      "execution_count": 7,
      "outputs": [
        {
          "output_type": "stream",
          "text": [
            "/content/run/colabEdit/GLoFA\n"
          ],
          "name": "stdout"
        }
      ]
    },
    {
      "cell_type": "code",
      "metadata": {
        "colab": {
          "base_uri": "https://localhost:8080/"
        },
        "id": "BcBGeANnS8nJ",
        "outputId": "8d327107-89d8-42e1-a821-abaa462f3412"
      },
      "source": [
        "# 下载预训练网络权重\n",
        "!gdown --i 1WCGj_Tu16n_vmv7JbnDJz8RqZKvUdYBn"
      ],
      "execution_count": 15,
      "outputs": [
        {
          "output_type": "stream",
          "text": [
            "Downloading...\n",
            "From: https://drive.google.com/uc?id=1WCGj_Tu16n_vmv7JbnDJz8RqZKvUdYBn\n",
            "To: /content/run/colabEdit/GLoFA/Res12-pre.pth\n",
            "49.9MB [00:01, 49.1MB/s]\n"
          ],
          "name": "stdout"
        }
      ]
    },
    {
      "cell_type": "markdown",
      "metadata": {
        "id": "JjhUGptlRC85"
      },
      "source": [
        "以下应该是main.py的内容"
      ]
    },
    {
      "cell_type": "code",
      "metadata": {
        "colab": {
          "base_uri": "https://localhost:8080/"
        },
        "id": "RrbFCQeFRJcY",
        "outputId": "af54f378-5cf2-4f2a-a4bb-9cf97624c85a"
      },
      "source": [
        "import os\n",
        "import argparse\n",
        "import random\n",
        "import importlib\n",
        "\n",
        "import numpy as np\n",
        "\n",
        "import torch\n",
        "from torch import nn\n",
        "from torch import optim\n",
        "\n",
        "from Train import train\n",
        "from Test import test\n",
        "from utils import global_variable as GV\n",
        "\n",
        "def display_args(args):\n",
        "    print('===== task arguments =====')\n",
        "    print('data_name = %s' % (args.data_name))\n",
        "    print('network_name = %s' % (args.network_name))\n",
        "    print('model_name = %s' % (args.model_name))\n",
        "    print('N = %d' % (args.N))\n",
        "    print('K = %d' % (args.K))\n",
        "    print('Q = %d' % (args.Q))\n",
        "    print('===== experiment environment arguments =====')\n",
        "    print('devices = %s' % str(args.devices))\n",
        "    print('flag_debug = %r' % (args.flag_debug))\n",
        "    print('n_workers = %d' % (args.n_workers))\n",
        "    print('===== optimizer arguments =====')\n",
        "    print('lr_network = %f' % (args.lr_network))\n",
        "    print('lr = %f' % (args.lr))\n",
        "    print('point = %s' % str(args.point))\n",
        "    print('gamma = %f' % (args.gamma))\n",
        "    print('wd = %f' % (args.wd))\n",
        "    print('mo = %f' % (args.mo))\n",
        "    print('===== training procedure arguments =====')\n",
        "    print('n_training_episodes = %d' % (args.n_training_episodes))\n",
        "    print('n_validating_episodes = %d' % (args.n_validating_episodes))\n",
        "    print('n_testing_episodes = %d' % (args.n_testing_episodes))\n",
        "    print('episode_gap = %d' % (args.episode_gap))\n",
        "    print('===== model arguments =====')\n",
        "    print('tau = %f' % (args.tau))\n",
        "    print('delta = %f' % (args.delta))\n",
        "\n",
        "\n",
        "# set random seed\n",
        "random.seed(960402)\n",
        "np.random.seed(960402)\n",
        "torch.manual_seed(960402)\n",
        "torch.cuda.manual_seed(960402)\n",
        "torch.backends.cudnn.deterministic = True\n",
        "\n",
        "# create a parser\n",
        "parser = argparse.ArgumentParser()\n",
        "# task arguments\n",
        "parser.add_argument('--data_name', type=str, default='mini_imagenet', choices=['mini_imagenet'])\n",
        "parser.add_argument('--network_name', type=str, default='resnet', choices=['resnet'])\n",
        "parser.add_argument('--model_name', type=str, default='glofa', choices=['glofa'])\n",
        "parser.add_argument('--N', type=int, default=5)\n",
        "parser.add_argument('--K', type=int, default=1)\n",
        "parser.add_argument('--Q', type=int, default=15)\n",
        "# experiment environment arguments\n",
        "parser.add_argument('--devices', type=int, nargs='+', default=GV.DEVICES)\n",
        "parser.add_argument('--flag_debug', action='store_true', default=False)\n",
        "parser.add_argument('--n_workers', type=int, default=GV.WORKERS)\n",
        "# optimizer arguments\n",
        "parser.add_argument('--lr_network', type=float, default=0.0001)\n",
        "parser.add_argument('--lr', type=float, default=0.01)\n",
        "parser.add_argument('--point', type=int, nargs='+', default=(20,30,40))\n",
        "parser.add_argument('--gamma', type=float, default=0.2)\n",
        "parser.add_argument('--wd', type=float, default=0.0005)  # weight decay\n",
        "parser.add_argument('--mo', type=float, default=0.9)  # momentum\n",
        "# training procedure arguments\n",
        "parser.add_argument('--n_training_episodes', type=int, default=10000)\n",
        "parser.add_argument('--n_validating_episodes', type=int, default=200)\n",
        "parser.add_argument('--n_testing_episodes', type=int, default=10000)\n",
        "parser.add_argument('--episode_gap', type=int, default=200)\n",
        "# model arguments\n",
        "parser.add_argument('--tau', type=float, default=1)\n",
        "parser.add_argument('--delta', type=float, default=1)\n",
        "\n",
        "args,unknown = parser.parse_known_args()\n",
        "\n",
        "display_args(args)"
      ],
      "execution_count": 10,
      "outputs": [
        {
          "output_type": "stream",
          "text": [
            "===== task arguments =====\n",
            "data_name = mini_imagenet\n",
            "network_name = resnet\n",
            "model_name = glofa\n",
            "N = 5\n",
            "K = 1\n",
            "Q = 15\n",
            "===== experiment environment arguments =====\n",
            "devices = [0]\n",
            "flag_debug = False\n",
            "n_workers = 8\n",
            "===== optimizer arguments =====\n",
            "lr_network = 0.000100\n",
            "lr = 0.010000\n",
            "point = (20, 30, 40)\n",
            "gamma = 0.200000\n",
            "wd = 0.000500\n",
            "mo = 0.900000\n",
            "===== training procedure arguments =====\n",
            "n_training_episodes = 10000\n",
            "n_validating_episodes = 200\n",
            "n_testing_episodes = 10000\n",
            "episode_gap = 200\n",
            "===== model arguments =====\n",
            "tau = 1.000000\n",
            "delta = 1.000000\n"
          ],
          "name": "stdout"
        }
      ]
    },
    {
      "cell_type": "code",
      "metadata": {
        "colab": {
          "base_uri": "https://localhost:8080/"
        },
        "id": "D3NYb57XSZYz",
        "outputId": "0da63539-cdf8-4da6-f9af-12055466ddcf"
      },
      "source": [
        "data_path = '/content/run/' + args.data_name + '/'\n",
        "print(data_path)"
      ],
      "execution_count": 11,
      "outputs": [
        {
          "output_type": "stream",
          "text": [
            "/content/run/mini_imagenet/\n"
          ],
          "name": "stdout"
        }
      ]
    },
    {
      "cell_type": "code",
      "metadata": {
        "id": "MbGuFSGySlts"
      },
      "source": [
        "# import modules\n",
        "Data = importlib.import_module('dataloaders.' + args.data_name)\n",
        "Network = importlib.import_module('networks.' + args.network_name)\n",
        "Model = importlib.import_module('models.' + args.model_name)"
      ],
      "execution_count": 12,
      "outputs": []
    },
    {
      "cell_type": "code",
      "metadata": {
        "colab": {
          "base_uri": "https://localhost:8080/"
        },
        "id": "U_DCYh4cSuGL",
        "outputId": "e291bd9f-dda9-4e68-d190-ef8f93cbb290"
      },
      "source": [
        "# generate data loaders\n",
        "train_data_loader = Data.generate_data_loader(data_path, 'train', args.n_training_episodes, args.N, args.K + args.Q)\n",
        "validate_data_loader = Data.generate_data_loader(data_path, 'validate', args.n_validating_episodes, args.N, args.K + args.Q)\n",
        "test_data_loader = Data.generate_data_loader(data_path, 'test', args.n_testing_episodes, args.N, args.K + args.Q)\n",
        "print('===== data loader ready. =====')"
      ],
      "execution_count": 13,
      "outputs": [
        {
          "output_type": "stream",
          "text": [
            "===== data loader ready. =====\n"
          ],
          "name": "stdout"
        }
      ]
    },
    {
      "cell_type": "code",
      "metadata": {
        "colab": {
          "base_uri": "https://localhost:8080/"
        },
        "id": "DZJw72JoS06M",
        "outputId": "cdfbb8e7-cb39-4c63-ab10-f1cd114402b0"
      },
      "source": [
        "# generate network\n",
        "network = Network.MyNetwork(args)\n",
        "if len(args.devices) > 1:\n",
        "    network = torch.nn.DataParallel(network, device_ids=args.devices)\n",
        "print('===== network ready. =====')"
      ],
      "execution_count": 14,
      "outputs": [
        {
          "output_type": "stream",
          "text": [
            "===== network ready. =====\n"
          ],
          "name": "stdout"
        }
      ]
    },
    {
      "cell_type": "code",
      "metadata": {
        "colab": {
          "base_uri": "https://localhost:8080/"
        },
        "id": "7i6UW8jRTku6",
        "outputId": "bd707d56-476d-4f1d-c402-0c10a7c71b71"
      },
      "source": [
        "# generate model\n",
        "model = Model.MyModel(args, network)\n",
        "# pretrained_state_dict = torch.load('pretrained_weights.pth')['params']\n",
        "pretrained_state_dict = torch.load('Res12-pre.pth')['params']\n",
        "pretrained_state_dict = {k:v for k, v in pretrained_state_dict.items() if k.startswith('encoder')}\n",
        "model_state_dict = model.state_dict()\n",
        "model_state_dict.update(pretrained_state_dict)\n",
        "model.load_state_dict(model_state_dict)\n",
        "model = model.cuda(args.devices[0])\n",
        "print('===== model ready. =====')"
      ],
      "execution_count": 16,
      "outputs": [
        {
          "output_type": "stream",
          "text": [
            "===== model ready. =====\n"
          ],
          "name": "stdout"
        }
      ]
    },
    {
      "cell_type": "code",
      "metadata": {
        "id": "utRgSvOdTzPd"
      },
      "source": [
        "model_save_path = 'saves/trained_models/' + \\\n",
        "                    args.data_name + '_' + args.network_name + '_' + args.model_name + \\\n",
        "                    '_N=' + str(args.N) + \\\n",
        "                    '_K=' + str(args.K) + \\\n",
        "                    '_Q=' + str(args.Q) + \\\n",
        "                    '_lr-net=' + str(args.lr_network) + \\\n",
        "                    '_lr=' + str(args.lr) + \\\n",
        "                    '_point=' + str(args.point) + \\\n",
        "                    '_gamma=' + str(args.gamma) + \\\n",
        "                    '_wd=' + str(args.wd) + \\\n",
        "                    '_mo=' + str(args.mo) + \\\n",
        "                    '_tau=' + str(args.tau) + \\\n",
        "                    '_delta=' + str(args.delta) + \\\n",
        "                    '.model'\n",
        "statistic_save_path = 'saves/statistics/' + \\\n",
        "                        args.data_name + '_' + args.network_name + '_' + args.model_name + \\\n",
        "                        '_N=' + str(args.N) + \\\n",
        "                        '_K=' + str(args.K) + \\\n",
        "                        '_Q=' + str(args.Q) + \\\n",
        "                        '_lr-net=' + str(args.lr_network) + \\\n",
        "                        '_lr=' + str(args.lr) + \\\n",
        "                        '_point=' + str(args.point) + \\\n",
        "                        '_gamma=' + str(args.gamma) + \\\n",
        "                        '_wd=' + str(args.wd) + \\\n",
        "                        '_mo=' + str(args.mo) + \\\n",
        "                        '_tau=' + str(args.tau) + \\\n",
        "                        '.stat'\n",
        "\n",
        "# create directories\n",
        "dirs = os.path.dirname(model_save_path)\n",
        "os.makedirs(dirs, exist_ok=True)\n",
        "dirs = os.path.dirname(statistic_save_path)\n",
        "os.makedirs(dirs, exist_ok=True)\n"
      ],
      "execution_count": 17,
      "outputs": []
    },
    {
      "cell_type": "code",
      "metadata": {
        "id": "1KjN3_6FgPtp"
      },
      "source": [
        "完成训练过程需要49分钟"
      ],
      "execution_count": null,
      "outputs": []
    },
    {
      "cell_type": "markdown",
      "metadata": {
        "id": "SDVNAEisgPJX"
      },
      "source": [
        ""
      ]
    },
    {
      "cell_type": "code",
      "metadata": {
        "colab": {
          "base_uri": "https://localhost:8080/"
        },
        "id": "awo8XR64T8SW",
        "outputId": "19a7c031-f57c-4a9e-ae36-d7929cddd4fe"
      },
      "source": [
        "# training process\n",
        "training_loss_list, validating_accuracy_list = train(args, train_data_loader, validate_data_loader, model,\n",
        "    model_save_path)\n",
        "if not args.flag_debug:\n",
        "    record = {\n",
        "        'training_loss': training_loss_list,\n",
        "        'validating_accuracy': validating_accuracy_list\n",
        "    }\n",
        "    torch.save(record, statistic_save_path)\n",
        "\n",
        "display_args(args)"
      ],
      "execution_count": 18,
      "outputs": [
        {
          "output_type": "stream",
          "text": [
            "epoch 1 finish: training loss = 1.133408, validating acc = 0.592600\n",
            "epoch 2 finish: training loss = 1.045709, validating acc = 0.626400\n",
            "epoch 3 finish: training loss = 1.066004, validating acc = 0.634333\n",
            "epoch 4 finish: training loss = 0.988005, validating acc = 0.641533\n",
            "epoch 5 finish: training loss = 0.919411, validating acc = 0.621600\n",
            "epoch 6 finish: training loss = 0.931248, validating acc = 0.601400\n",
            "epoch 7 finish: training loss = 0.937277, validating acc = 0.641333\n",
            "epoch 8 finish: training loss = 0.924227, validating acc = 0.629267\n",
            "epoch 9 finish: training loss = 0.921411, validating acc = 0.643000\n",
            "epoch 10 finish: training loss = 0.899672, validating acc = 0.645933\n",
            "epoch 11 finish: training loss = 0.892667, validating acc = 0.632933\n",
            "epoch 12 finish: training loss = 0.869544, validating acc = 0.640000\n",
            "epoch 13 finish: training loss = 0.865257, validating acc = 0.638333\n",
            "epoch 14 finish: training loss = 0.847199, validating acc = 0.626400\n",
            "epoch 15 finish: training loss = 0.854251, validating acc = 0.639333\n",
            "epoch 16 finish: training loss = 0.826531, validating acc = 0.628333\n",
            "epoch 17 finish: training loss = 0.810832, validating acc = 0.642867\n",
            "epoch 18 finish: training loss = 0.839815, validating acc = 0.655133\n",
            "epoch 19 finish: training loss = 0.821230, validating acc = 0.646000\n",
            "epoch 20 finish: training loss = 0.849269, validating acc = 0.638533\n",
            "epoch 21 finish: training loss = 0.816588, validating acc = 0.635533\n",
            "epoch 22 finish: training loss = 0.835725, validating acc = 0.646533\n",
            "epoch 23 finish: training loss = 0.836911, validating acc = 0.625933\n",
            "epoch 24 finish: training loss = 0.823483, validating acc = 0.637267\n",
            "epoch 25 finish: training loss = 0.825841, validating acc = 0.641200\n",
            "epoch 26 finish: training loss = 0.791519, validating acc = 0.630467\n",
            "epoch 27 finish: training loss = 0.775474, validating acc = 0.638200\n",
            "epoch 28 finish: training loss = 0.831782, validating acc = 0.641400\n",
            "epoch 29 finish: training loss = 0.804009, validating acc = 0.636333\n",
            "epoch 30 finish: training loss = 0.796904, validating acc = 0.637667\n",
            "epoch 31 finish: training loss = 0.799686, validating acc = 0.637200\n",
            "epoch 32 finish: training loss = 0.798331, validating acc = 0.616200\n",
            "epoch 33 finish: training loss = 0.817635, validating acc = 0.633000\n",
            "epoch 34 finish: training loss = 0.847850, validating acc = 0.635067\n",
            "epoch 35 finish: training loss = 0.797941, validating acc = 0.636733\n",
            "epoch 36 finish: training loss = 0.814661, validating acc = 0.639800\n",
            "epoch 37 finish: training loss = 0.787619, validating acc = 0.632667\n",
            "epoch 38 finish: training loss = 0.808429, validating acc = 0.637400\n",
            "epoch 39 finish: training loss = 0.830138, validating acc = 0.645667\n",
            "epoch 40 finish: training loss = 0.775982, validating acc = 0.648533\n",
            "epoch 41 finish: training loss = 0.817244, validating acc = 0.636400\n",
            "epoch 42 finish: training loss = 0.835464, validating acc = 0.651867\n",
            "epoch 43 finish: training loss = 0.824893, validating acc = 0.641133\n",
            "epoch 44 finish: training loss = 0.834904, validating acc = 0.646667\n",
            "epoch 45 finish: training loss = 0.804593, validating acc = 0.647867\n",
            "epoch 46 finish: training loss = 0.800540, validating acc = 0.645667\n",
            "epoch 47 finish: training loss = 0.788924, validating acc = 0.634600\n",
            "epoch 48 finish: training loss = 0.800503, validating acc = 0.639933\n",
            "epoch 49 finish: training loss = 0.800746, validating acc = 0.636133\n",
            "epoch 50 finish: training loss = 0.788986, validating acc = 0.638667\n",
            "===== task arguments =====\n",
            "data_name = mini_imagenet\n",
            "network_name = resnet\n",
            "model_name = glofa\n",
            "N = 5\n",
            "K = 1\n",
            "Q = 15\n",
            "===== experiment environment arguments =====\n",
            "devices = [0]\n",
            "flag_debug = False\n",
            "n_workers = 8\n",
            "===== optimizer arguments =====\n",
            "lr_network = 0.000100\n",
            "lr = 0.010000\n",
            "point = (20, 30, 40)\n",
            "gamma = 0.200000\n",
            "wd = 0.000500\n",
            "mo = 0.900000\n",
            "===== training procedure arguments =====\n",
            "n_training_episodes = 10000\n",
            "n_validating_episodes = 200\n",
            "n_testing_episodes = 10000\n",
            "episode_gap = 200\n",
            "===== model arguments =====\n",
            "tau = 1.000000\n",
            "delta = 1.000000\n"
          ],
          "name": "stdout"
        }
      ]
    }
  ]
}